{
 "cells": [
  {
   "cell_type": "code",
   "execution_count": 1,
   "metadata": {},
   "outputs": [
    {
     "name": "stdout",
     "output_type": "stream",
     "text": [
      "Cálculo paralelo completado en 1265.21 segundos\n",
      "Pipeline ejecutado en 1301.72 segundos\n"
     ]
    },
    {
     "data": {
      "text/html": [
       "<div>\n",
       "<style scoped>\n",
       "    .dataframe tbody tr th:only-of-type {\n",
       "        vertical-align: middle;\n",
       "    }\n",
       "\n",
       "    .dataframe tbody tr th {\n",
       "        vertical-align: top;\n",
       "    }\n",
       "\n",
       "    .dataframe thead th {\n",
       "        text-align: right;\n",
       "    }\n",
       "</style>\n",
       "<table border=\"1\" class=\"dataframe\">\n",
       "  <thead>\n",
       "    <tr style=\"text-align: right;\">\n",
       "      <th></th>\n",
       "      <th>Término 1</th>\n",
       "      <th>Término 2</th>\n",
       "      <th>Similitud</th>\n",
       "    </tr>\n",
       "  </thead>\n",
       "  <tbody>\n",
       "    <tr>\n",
       "      <th>43505751</th>\n",
       "      <td>Sapato Usthemp Legend Temático - Pug 3</td>\n",
       "      <td>Sapato Usthemp Legend Temático - Pug 4</td>\n",
       "      <td>1.000000</td>\n",
       "    </tr>\n",
       "    <tr>\n",
       "      <th>6212817</th>\n",
       "      <td>Tênis Usthemp Long Temático - Tingo Almeida</td>\n",
       "      <td>Tênis Usthemp Long Temático - Jardim Secreto</td>\n",
       "      <td>1.000000</td>\n",
       "    </tr>\n",
       "    <tr>\n",
       "      <th>15618237</th>\n",
       "      <td>Tênis Slip On</td>\n",
       "      <td>Tênis Slip On</td>\n",
       "      <td>1.000000</td>\n",
       "    </tr>\n",
       "    <tr>\n",
       "      <th>39891505</th>\n",
       "      <td>Tênis Usthemp Folks Vegano Casual Estampa Olly</td>\n",
       "      <td>Tênis Usthemp Folks Vegano Casual Estampa Pequ...</td>\n",
       "      <td>1.000000</td>\n",
       "    </tr>\n",
       "    <tr>\n",
       "      <th>11315110</th>\n",
       "      <td>Tenis Infantil Tênis Feminino Promoção Brinde ...</td>\n",
       "      <td>Tenis Infantil Tênis Feminino Promoção Brinde ...</td>\n",
       "      <td>1.000000</td>\n",
       "    </tr>\n",
       "    <tr>\n",
       "      <th>...</th>\n",
       "      <td>...</td>\n",
       "      <td>...</td>\n",
       "      <td>...</td>\n",
       "    </tr>\n",
       "    <tr>\n",
       "      <th>12657526</th>\n",
       "      <td>Tenis Try Way - Novo</td>\n",
       "      <td>Ês</td>\n",
       "      <td>-0.483827</td>\n",
       "    </tr>\n",
       "    <tr>\n",
       "      <th>31557414</th>\n",
       "      <td>16 Centros De Mesa Gatinha Marie</td>\n",
       "      <td>Piso</td>\n",
       "      <td>-0.488728</td>\n",
       "    </tr>\n",
       "    <tr>\n",
       "      <th>10501311</th>\n",
       "      <td>Btt De 2 Partes</td>\n",
       "      <td>Bike 26 Elleven 21v Freios A Disco Câmbios Shi...</td>\n",
       "      <td>-0.508922</td>\n",
       "    </tr>\n",
       "    <tr>\n",
       "      <th>48076696</th>\n",
       "      <td>Tenis Comfortflex 21-62305 Feminina</td>\n",
       "      <td>Bicleta</td>\n",
       "      <td>-0.518127</td>\n",
       "    </tr>\n",
       "    <tr>\n",
       "      <th>37436991</th>\n",
       "      <td>Sandália Anabela Azaleia  Maxi Fivela Feminina...</td>\n",
       "      <td>Bicleta</td>\n",
       "      <td>-0.533344</td>\n",
       "    </tr>\n",
       "  </tbody>\n",
       "</table>\n",
       "<p>49995000 rows × 3 columns</p>\n",
       "</div>"
      ],
      "text/plain": [
       "                                                  Término 1  \\\n",
       "43505751            Sapato Usthemp Legend Temático - Pug 3   \n",
       "6212817        Tênis Usthemp Long Temático - Tingo Almeida   \n",
       "15618237                                     Tênis Slip On    \n",
       "39891505     Tênis Usthemp Folks Vegano Casual Estampa Olly   \n",
       "11315110  Tenis Infantil Tênis Feminino Promoção Brinde ...   \n",
       "...                                                     ...   \n",
       "12657526                               Tenis Try Way - Novo   \n",
       "31557414                   16 Centros De Mesa Gatinha Marie   \n",
       "10501311                                    Btt De 2 Partes   \n",
       "48076696                Tenis Comfortflex 21-62305 Feminina   \n",
       "37436991  Sandália Anabela Azaleia  Maxi Fivela Feminina...   \n",
       "\n",
       "                                                  Término 2  Similitud  \n",
       "43505751            Sapato Usthemp Legend Temático - Pug 4   1.000000  \n",
       "6212817       Tênis Usthemp Long Temático - Jardim Secreto   1.000000  \n",
       "15618237                                      Tênis Slip On   1.000000  \n",
       "39891505  Tênis Usthemp Folks Vegano Casual Estampa Pequ...   1.000000  \n",
       "11315110  Tenis Infantil Tênis Feminino Promoção Brinde ...   1.000000  \n",
       "...                                                     ...        ...  \n",
       "12657526                                               Ês    -0.483827  \n",
       "31557414                                               Piso  -0.488728  \n",
       "10501311  Bike 26 Elleven 21v Freios A Disco Câmbios Shi...  -0.508922  \n",
       "48076696                                            Bicleta  -0.518127  \n",
       "37436991                                            Bicleta  -0.533344  \n",
       "\n",
       "[49995000 rows x 3 columns]"
      ]
     },
     "execution_count": 1,
     "metadata": {},
     "output_type": "execute_result"
    }
   ],
   "source": [
    "import pandas as pd\n",
    "\n",
    "df = pd.read_csv('../data/items_titles_test.csv')\n",
    "\n",
    "import sys\n",
    "sys.path.append('..')\n",
    "from scripts.similarity import TextSimilarityPipeline\n",
    "\n",
    "# Crear instancia y ejecutar\n",
    "similitud = TextSimilarityPipeline(df)\n",
    "resultado = similitud.run_pipeline()\n",
    "\n",
    "# Mostrar resultado\n",
    "resultado"
   ]
  },
  {
   "cell_type": "code",
   "execution_count": 2,
   "metadata": {},
   "outputs": [
    {
     "data": {
      "text/plain": [
       "(10000, 1)"
      ]
     },
     "execution_count": 2,
     "metadata": {},
     "output_type": "execute_result"
    }
   ],
   "source": [
    "df.shape"
   ]
  },
  {
   "cell_type": "markdown",
   "metadata": {},
   "source": [
    "## Análisis de Resultados de Similitud de Texto\n",
    "\n",
    "### Detalles del Dataset\n",
    "- **Cantidad de textos analizados:** 10,000\n",
    "\n",
    "### Tiempos de Ejecución\n",
    "1. **Cálculo paralelo de similitudes:** 1265.21 segundos (~21 minutos)\n",
    "2. **Tiempo total del pipeline:** 1301.72 segundos (~22 minutos)\n",
    "\n",
    "### Observaciones\n",
    "- El uso de **Truncated SVD** para reducir la dimensionalidad, combinado con paralelización, permitió calcular similitudes entre todos los pares de textos en un tiempo razonable para el tamaño del dataset.\n",
    "- Este enfoque es escalable y puede manejar datasets de gran tamaño con optimizaciones adicionales."
   ]
  }
 ],
 "metadata": {
  "kernelspec": {
   "display_name": "meli",
   "language": "python",
   "name": "python3"
  },
  "language_info": {
   "codemirror_mode": {
    "name": "ipython",
    "version": 3
   },
   "file_extension": ".py",
   "mimetype": "text/x-python",
   "name": "python",
   "nbconvert_exporter": "python",
   "pygments_lexer": "ipython3",
   "version": "3.10.10"
  }
 },
 "nbformat": 4,
 "nbformat_minor": 2
}
