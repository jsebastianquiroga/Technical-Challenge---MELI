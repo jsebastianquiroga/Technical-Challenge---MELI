{
 "cells": [
  {
   "cell_type": "code",
   "execution_count": 1,
   "metadata": {},
   "outputs": [
    {
     "name": "stdout",
     "output_type": "stream",
     "text": [
      "Calculando similitudes por lotes...\n"
     ]
    },
    {
     "name": "stderr",
     "output_type": "stream",
     "text": [
      "100%|██████████| 20/20 [00:18<00:00,  1.11it/s]\n"
     ]
    },
    {
     "name": "stdout",
     "output_type": "stream",
     "text": [
      "Cálculo por lotes completado en 18.26 segundos\n",
      "Pipeline ejecutado en 18.49 segundos\n"
     ]
    },
    {
     "data": {
      "text/html": [
       "<div>\n",
       "<style scoped>\n",
       "    .dataframe tbody tr th:only-of-type {\n",
       "        vertical-align: middle;\n",
       "    }\n",
       "\n",
       "    .dataframe tbody tr th {\n",
       "        vertical-align: top;\n",
       "    }\n",
       "\n",
       "    .dataframe thead th {\n",
       "        text-align: right;\n",
       "    }\n",
       "</style>\n",
       "<table border=\"1\" class=\"dataframe\">\n",
       "  <thead>\n",
       "    <tr style=\"text-align: right;\">\n",
       "      <th></th>\n",
       "      <th>Término 1</th>\n",
       "      <th>Término 2</th>\n",
       "      <th>Similitud</th>\n",
       "    </tr>\n",
       "  </thead>\n",
       "  <tbody>\n",
       "    <tr>\n",
       "      <th>742933</th>\n",
       "      <td>Sapato Usthemp Legend Temático - Pug 3</td>\n",
       "      <td>Sapato Usthemp Legend Temático - Pug 4</td>\n",
       "      <td>1.000000</td>\n",
       "    </tr>\n",
       "    <tr>\n",
       "      <th>263902</th>\n",
       "      <td>Tênis Slip On</td>\n",
       "      <td>Tênis Slip On</td>\n",
       "      <td>1.000000</td>\n",
       "    </tr>\n",
       "    <tr>\n",
       "      <th>104550</th>\n",
       "      <td>Tênis Usthemp Long Temático - Tingo Almeida</td>\n",
       "      <td>Tênis Usthemp Long Temático - Jardim Secreto</td>\n",
       "      <td>1.000000</td>\n",
       "    </tr>\n",
       "    <tr>\n",
       "      <th>681808</th>\n",
       "      <td>Tênis Usthemp Folks Vegano Casual Estampa Olly</td>\n",
       "      <td>Tênis Usthemp Folks Vegano Casual Estampa Pequ...</td>\n",
       "      <td>1.000000</td>\n",
       "    </tr>\n",
       "    <tr>\n",
       "      <th>498842</th>\n",
       "      <td>Tênis Usthemp Volare Vegano Casual Estampa Joa...</td>\n",
       "      <td>Tênis Usthemp Volare Vegano Casual Estampa Carpas</td>\n",
       "      <td>1.000000</td>\n",
       "    </tr>\n",
       "    <tr>\n",
       "      <th>...</th>\n",
       "      <td>...</td>\n",
       "      <td>...</td>\n",
       "      <td>...</td>\n",
       "    </tr>\n",
       "    <tr>\n",
       "      <th>848993</th>\n",
       "      <td>Bicicleta Aro 29 Tsw Evo Quest Gx 12v</td>\n",
       "      <td>Bicicleta Serena Feminina Aro 20 Violeta Maste...</td>\n",
       "      <td>0.500001</td>\n",
       "    </tr>\n",
       "    <tr>\n",
       "      <th>13934</th>\n",
       "      <td>Tenis Masculino Casual Urbano Retrô Classic Ne...</td>\n",
       "      <td>Tênis Bom E Barato Masculino Trilupy Casual</td>\n",
       "      <td>0.500001</td>\n",
       "    </tr>\n",
       "    <tr>\n",
       "      <th>114956</th>\n",
       "      <td>Tênis Infantil Pampili Summer Rosa Chiclete 65...</td>\n",
       "      <td>Tênis By Kids Carro Infantil Chk Elas</td>\n",
       "      <td>0.500000</td>\n",
       "    </tr>\n",
       "    <tr>\n",
       "      <th>246070</th>\n",
       "      <td>Tênis adidas Runfalcon Original Cinza E Azul G...</td>\n",
       "      <td>Tênis Adrun Flex Up-feminino-8621f-1003-cinza/...</td>\n",
       "      <td>0.500000</td>\n",
       "    </tr>\n",
       "    <tr>\n",
       "      <th>536494</th>\n",
       "      <td>Tênis De Lã Italiana Yuool Panna Tam 38</td>\n",
       "      <td>Tênis Colcci Bia 2021 - Modelo Novo, Detalhes ...</td>\n",
       "      <td>0.500000</td>\n",
       "    </tr>\n",
       "  </tbody>\n",
       "</table>\n",
       "<p>853492 rows × 3 columns</p>\n",
       "</div>"
      ],
      "text/plain": [
       "                                                Término 1  \\\n",
       "742933            Sapato Usthemp Legend Temático - Pug 3   \n",
       "263902                                     Tênis Slip On    \n",
       "104550       Tênis Usthemp Long Temático - Tingo Almeida   \n",
       "681808     Tênis Usthemp Folks Vegano Casual Estampa Olly   \n",
       "498842  Tênis Usthemp Volare Vegano Casual Estampa Joa...   \n",
       "...                                                   ...   \n",
       "848993              Bicicleta Aro 29 Tsw Evo Quest Gx 12v   \n",
       "13934   Tenis Masculino Casual Urbano Retrô Classic Ne...   \n",
       "114956  Tênis Infantil Pampili Summer Rosa Chiclete 65...   \n",
       "246070  Tênis adidas Runfalcon Original Cinza E Azul G...   \n",
       "536494            Tênis De Lã Italiana Yuool Panna Tam 38   \n",
       "\n",
       "                                                Término 2  Similitud  \n",
       "742933            Sapato Usthemp Legend Temático - Pug 4   1.000000  \n",
       "263902                                      Tênis Slip On   1.000000  \n",
       "104550      Tênis Usthemp Long Temático - Jardim Secreto   1.000000  \n",
       "681808  Tênis Usthemp Folks Vegano Casual Estampa Pequ...   1.000000  \n",
       "498842  Tênis Usthemp Volare Vegano Casual Estampa Carpas   1.000000  \n",
       "...                                                   ...        ...  \n",
       "848993  Bicicleta Serena Feminina Aro 20 Violeta Maste...   0.500001  \n",
       "13934         Tênis Bom E Barato Masculino Trilupy Casual   0.500001  \n",
       "114956            Tênis By Kids Carro Infantil Chk Elas     0.500000  \n",
       "246070  Tênis Adrun Flex Up-feminino-8621f-1003-cinza/...   0.500000  \n",
       "536494  Tênis Colcci Bia 2021 - Modelo Novo, Detalhes ...   0.500000  \n",
       "\n",
       "[853492 rows x 3 columns]"
      ]
     },
     "execution_count": 1,
     "metadata": {},
     "output_type": "execute_result"
    }
   ],
   "source": [
    "import pandas as pd\n",
    "\n",
    "df = pd.read_csv('../data/items_titles_test.csv')\n",
    "\n",
    "import sys\n",
    "sys.path.append('..')\n",
    "from scripts.similarity import TextSimilarityPipeline\n",
    "\n",
    "# Crear instancia y ejecutar\n",
    "similitud = TextSimilarityPipeline(df)\n",
    "resultado = similitud.run_pipeline()\n",
    "\n",
    "# Mostrar resultado\n",
    "resultado"
   ]
  },
  {
   "cell_type": "code",
   "execution_count": 2,
   "metadata": {},
   "outputs": [
    {
     "data": {
      "text/plain": [
       "(10000, 1)"
      ]
     },
     "execution_count": 2,
     "metadata": {},
     "output_type": "execute_result"
    }
   ],
   "source": [
    "df.shape"
   ]
  },
  {
   "cell_type": "markdown",
   "metadata": {},
   "source": [
    "## Análisis de Resultados de Similitud de Texto\n",
    "\n",
    "### Detalles del Dataset\n",
    "- **Cantidad de textos analizados:** 10,000\n",
    "\n",
    "### Tiempos de Ejecución\n",
    "1. **Cálculo paralelo de similitudes:** 18.26 segundos.\n",
    "2. **Tiempo total del pipeline:** 18.49 segundos.\n",
    "\n",
    "### Observaciones\n",
    "- El uso de **Truncated SVD** para reducir la dimensionalidad, combinado con paralelización, permitió calcular similitudes entre todos los pares de textos en un tiempo razonable para el tamaño del dataset.\n",
    "- Se filtra basado en un threshold de 0.5 para solo procesar productos que tengan alguna relación.\n",
    "- Este enfoque es escalable y puede manejar datasets de gran tamaño con optimizaciones adicionales."
   ]
  },
  {
   "cell_type": "markdown",
   "metadata": {},
   "source": []
  }
 ],
 "metadata": {
  "kernelspec": {
   "display_name": "meli",
   "language": "python",
   "name": "python3"
  },
  "language_info": {
   "codemirror_mode": {
    "name": "ipython",
    "version": 3
   },
   "file_extension": ".py",
   "mimetype": "text/x-python",
   "name": "python",
   "nbconvert_exporter": "python",
   "pygments_lexer": "ipython3",
   "version": "3.10.10"
  }
 },
 "nbformat": 4,
 "nbformat_minor": 2
}
