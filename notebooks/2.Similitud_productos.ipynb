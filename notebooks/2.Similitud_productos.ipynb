{
 "cells": [
  {
   "cell_type": "markdown",
   "metadata": {},
   "source": [
    "# Leer datos"
   ]
  },
  {
   "cell_type": "code",
   "execution_count": 16,
   "metadata": {},
   "outputs": [
    {
     "data": {
      "text/html": [
       "<div>\n",
       "<style scoped>\n",
       "    .dataframe tbody tr th:only-of-type {\n",
       "        vertical-align: middle;\n",
       "    }\n",
       "\n",
       "    .dataframe tbody tr th {\n",
       "        vertical-align: top;\n",
       "    }\n",
       "\n",
       "    .dataframe thead th {\n",
       "        text-align: right;\n",
       "    }\n",
       "</style>\n",
       "<table border=\"1\" class=\"dataframe\">\n",
       "  <thead>\n",
       "    <tr style=\"text-align: right;\">\n",
       "      <th></th>\n",
       "      <th>ITE_ITEM_TITLE</th>\n",
       "    </tr>\n",
       "  </thead>\n",
       "  <tbody>\n",
       "    <tr>\n",
       "      <th>0</th>\n",
       "      <td>Tênis Ascension Posh Masculino - Preto E Verme...</td>\n",
       "    </tr>\n",
       "    <tr>\n",
       "      <th>1</th>\n",
       "      <td>Tenis Para Caminhada Super Levinho Spider Corr...</td>\n",
       "    </tr>\n",
       "    <tr>\n",
       "      <th>2</th>\n",
       "      <td>Tênis Feminino Le Parc Hocks Black/ice Origina...</td>\n",
       "    </tr>\n",
       "    <tr>\n",
       "      <th>3</th>\n",
       "      <td>Tênis Olympikus Esportivo Academia Nova Tendên...</td>\n",
       "    </tr>\n",
       "    <tr>\n",
       "      <th>4</th>\n",
       "      <td>Inteligente Led Bicicleta Tauda Luz Usb Bicicl...</td>\n",
       "    </tr>\n",
       "    <tr>\n",
       "      <th>...</th>\n",
       "      <td>...</td>\n",
       "    </tr>\n",
       "    <tr>\n",
       "      <th>29995</th>\n",
       "      <td>Tênis Vans Old Skool I Love My Vans - Usado - ...</td>\n",
       "    </tr>\n",
       "    <tr>\n",
       "      <th>29996</th>\n",
       "      <td>Tênis Feminino Preto Moleca 5296155</td>\n",
       "    </tr>\n",
       "    <tr>\n",
       "      <th>29997</th>\n",
       "      <td>Tenis Botinha Com Pelo Via Marte Original Lanç...</td>\n",
       "    </tr>\n",
       "    <tr>\n",
       "      <th>29998</th>\n",
       "      <td>Tênis Slip On Feminino Masculino Original Sapa...</td>\n",
       "    </tr>\n",
       "    <tr>\n",
       "      <th>29999</th>\n",
       "      <td>Bicicleta Nathor Rosa Infantil Sem Pedal Balan...</td>\n",
       "    </tr>\n",
       "  </tbody>\n",
       "</table>\n",
       "<p>30000 rows × 1 columns</p>\n",
       "</div>"
      ],
      "text/plain": [
       "                                          ITE_ITEM_TITLE\n",
       "0      Tênis Ascension Posh Masculino - Preto E Verme...\n",
       "1      Tenis Para Caminhada Super Levinho Spider Corr...\n",
       "2      Tênis Feminino Le Parc Hocks Black/ice Origina...\n",
       "3      Tênis Olympikus Esportivo Academia Nova Tendên...\n",
       "4      Inteligente Led Bicicleta Tauda Luz Usb Bicicl...\n",
       "...                                                  ...\n",
       "29995  Tênis Vans Old Skool I Love My Vans - Usado - ...\n",
       "29996                Tênis Feminino Preto Moleca 5296155\n",
       "29997  Tenis Botinha Com Pelo Via Marte Original Lanç...\n",
       "29998  Tênis Slip On Feminino Masculino Original Sapa...\n",
       "29999  Bicicleta Nathor Rosa Infantil Sem Pedal Balan...\n",
       "\n",
       "[30000 rows x 1 columns]"
      ]
     },
     "execution_count": 16,
     "metadata": {},
     "output_type": "execute_result"
    }
   ],
   "source": [
    "import pandas as pd\n",
    "import numpy as np\n",
    "\n",
    "df = pd.read_csv('../data/items_titles.csv')\n",
    "\n",
    "df"
   ]
  },
  {
   "cell_type": "code",
   "execution_count": 17,
   "metadata": {},
   "outputs": [
    {
     "name": "stdout",
     "output_type": "stream",
     "text": [
      "Primeros registros después de la limpieza:\n",
      "                                      ITE_ITEM_TITLE  \\\n",
      "0  Tênis Ascension Posh Masculino - Preto E Verme...   \n",
      "1  Tenis Para Caminhada Super Levinho Spider Corr...   \n",
      "2  Tênis Feminino Le Parc Hocks Black/ice Origina...   \n",
      "3  Tênis Olympikus Esportivo Academia Nova Tendên...   \n",
      "4  Inteligente Led Bicicleta Tauda Luz Usb Bicicl...   \n",
      "\n",
      "                                       cleaned_title  \n",
      "0  tenis ascension posh masculino - preto e verme...  \n",
      "1  tenis para caminhada super levinho spider corr...  \n",
      "2  tenis feminino le parc hocks black/ice origina...  \n",
      "3  tenis olympikus esportivo academia nova tenden...  \n",
      "4  inteligente led bicicleta tauda luz usb bicicl...  \n"
     ]
    }
   ],
   "source": [
    "import unicodedata\n",
    "\n",
    "# Función para limpiar el texto\n",
    "def preprocess_text(text):\n",
    "    # Convertir a minúsculas\n",
    "    text = text.lower()\n",
    "    # Eliminar acentos\n",
    "    text = ''.join(\n",
    "        char for char in unicodedata.normalize('NFKD', text) if not unicodedata.combining(char)\n",
    "    )\n",
    "    return text\n",
    "\n",
    "# Aplicar la limpieza a la columna 'ITE_ITEM_TITLE'\n",
    "df['cleaned_title'] = df['ITE_ITEM_TITLE'].apply(preprocess_text)\n",
    "\n",
    "# Mostrar los primeros resultados\n",
    "print(\"Primeros registros después de la limpieza:\")\n",
    "print(df[['ITE_ITEM_TITLE', 'cleaned_title']].head())"
   ]
  },
  {
   "cell_type": "markdown",
   "metadata": {},
   "source": [
    "# Tokenización."
   ]
  },
  {
   "cell_type": "code",
   "execution_count": 18,
   "metadata": {},
   "outputs": [
    {
     "name": "stdout",
     "output_type": "stream",
     "text": [
      "Primeros registros después de la tokenización:\n",
      "                                       cleaned_title  \\\n",
      "0  tenis ascension posh masculino - preto e verme...   \n",
      "1  tenis para caminhada super levinho spider corr...   \n",
      "2  tenis feminino le parc hocks black/ice origina...   \n",
      "3  tenis olympikus esportivo academia nova tenden...   \n",
      "4  inteligente led bicicleta tauda luz usb bicicl...   \n",
      "\n",
      "                                              tokens  \n",
      "0  [tenis, ascension, posh, masculino, preto, e, ...  \n",
      "1  [tenis, para, caminhada, super, levinho, spide...  \n",
      "2  [tenis, feminino, le, parc, hocks, black, ice,...  \n",
      "3  [tenis, olympikus, esportivo, academia, nova, ...  \n",
      "4  [inteligente, led, bicicleta, tauda, luz, usb,...  \n"
     ]
    }
   ],
   "source": [
    "import re\n",
    "\n",
    "# Función para tokenizar con eliminación de puntuación\n",
    "def tokenize_with_re(text):\n",
    "    # Dividir en palabras ignorando puntuación\n",
    "    return re.findall(r'\\b\\w+\\b', text)\n",
    "\n",
    "# Aplicar tokenización con re\n",
    "df['tokens'] = df['cleaned_title'].apply(tokenize_with_re)\n",
    "\n",
    "# Mostrar los primeros resultados\n",
    "print(\"Primeros registros después de la tokenización:\")\n",
    "print(df[['cleaned_title', 'tokens']].head())"
   ]
  },
  {
   "cell_type": "markdown",
   "metadata": {},
   "source": [
    "Se identifica que los productos están en portugués."
   ]
  },
  {
   "cell_type": "code",
   "execution_count": 19,
   "metadata": {},
   "outputs": [
    {
     "name": "stdout",
     "output_type": "stream",
     "text": [
      "Palabras más frecuentes:\n",
      "[('tenis', 22600), ('feminino', 7931), ('masculino', 5349), ('casual', 3757), ('preto', 3664), ('infantil', 3496), ('original', 2766), ('sapatenis', 2630), ('bicicleta', 2248), ('de', 1928)]\n"
     ]
    }
   ],
   "source": [
    "from collections import Counter\n",
    "\n",
    "# Unir todas las palabras en una lista\n",
    "all_words = [word for tokens in df['tokens'] for word in tokens]\n",
    "\n",
    "# Contar la frecuencia de cada palabra\n",
    "word_counts = Counter(all_words)\n",
    "\n",
    "# Obtener las 10 palabras más frecuentes\n",
    "most_common_words = word_counts.most_common(10)\n",
    "\n",
    "print(\"Palabras más frecuentes:\")\n",
    "print(most_common_words)"
   ]
  },
  {
   "cell_type": "code",
   "execution_count": 20,
   "metadata": {},
   "outputs": [
    {
     "name": "stdout",
     "output_type": "stream",
     "text": [
      "Bigrams más frecuentes:\n",
      "[(('tenis', 'feminino'), 3560), (('tenis', 'infantil'), 1852), (('tenis', 'masculino'), 1562), (('slip', 'on'), 1292), (('tenis', 'olympikus'), 900), (('tenis', 'casual'), 889), (('tenis', 'usthemp'), 752), (('bicicleta', 'aro'), 683), (('feminino', 'casual'), 675), (('sapatenis', 'masculino'), 669)]\n",
      "Trigrams más frecuentes:\n",
      "[(('tenis', 'feminino', 'casual'), 472), (('bicicleta', 'aro', '29'), 350), (('tenis', 'slip', 'on'), 347), (('tenis', 'infantil', 'feminino'), 326), (('tenis', 'casual', 'feminino'), 274), (('tenis', 'infantil', 'masculino'), 213), (('feminino', 'slip', 'on'), 177), (('tenis', 'new', 'balance'), 174), (('tenis', 'asics', 'gel'), 169), (('bicicleta', 'aro', '26'), 168)]\n"
     ]
    }
   ],
   "source": [
    "from nltk import ngrams\n",
    "\n",
    "# Función para generar n-gramas\n",
    "def generate_ngrams(tokens, n):\n",
    "    return list(ngrams(tokens, n))\n",
    "\n",
    "# Crear n-gramas (bi-gramas y tri-gramas)\n",
    "df['bigrams'] = df['tokens'].apply(lambda x: generate_ngrams(x, 2))\n",
    "df['trigrams'] = df['tokens'].apply(lambda x: generate_ngrams(x, 3))\n",
    "\n",
    "# Contar los bigramas más comunes\n",
    "all_bigrams = [bigram for bigrams in df['bigrams'] for bigram in bigrams]\n",
    "bigram_counts = Counter(all_bigrams)\n",
    "\n",
    "# Contar los trigramas más comunes\n",
    "all_trigrams = [trigram for trigrams in df['trigrams'] for trigram in trigrams]\n",
    "trigram_counts = Counter(all_trigrams)\n",
    "\n",
    "print(\"Bigrams más frecuentes:\")\n",
    "print(bigram_counts.most_common(10))\n",
    "\n",
    "print(\"Trigrams más frecuentes:\")\n",
    "print(trigram_counts.most_common(10))"
   ]
  },
  {
   "cell_type": "code",
   "execution_count": 21,
   "metadata": {},
   "outputs": [
    {
     "name": "stdout",
     "output_type": "stream",
     "text": [
      "Longitud promedio de tokens por título: 7.26\n",
      "Longitud máxima: 28\n",
      "Longitud mínima: 1\n"
     ]
    },
    {
     "data": {
      "image/png": "[encoded data removed]",
      "text/plain": [
       "<Figure size 1000x600 with 1 Axes>"
      ]
     },
     "metadata": {},
     "output_type": "display_data"
    }
   ],
   "source": [
    "import matplotlib.pyplot as plt\n",
    "\n",
    "# Longitud de cada título\n",
    "df['num_tokens'] = df['tokens'].apply(len)\n",
    "\n",
    "# Estadísticas descriptivas\n",
    "mean_tokens = df['num_tokens'].mean()\n",
    "max_tokens = df['num_tokens'].max()\n",
    "min_tokens = df['num_tokens'].min()\n",
    "\n",
    "print(f\"Longitud promedio de tokens por título: {mean_tokens:.2f}\")\n",
    "print(f\"Longitud máxima: {max_tokens}\")\n",
    "print(f\"Longitud mínima: {min_tokens}\")\n",
    "\n",
    "# Graficar la distribución de la longitud\n",
    "plt.figure(figsize=(10, 6))\n",
    "plt.hist(df['num_tokens'], bins=20, color='skyblue', edgecolor='black')\n",
    "plt.title(\"Distribución de la longitud de tokens por título\")\n",
    "plt.xlabel(\"Número de tokens\")\n",
    "plt.ylabel(\"Frecuencia\")\n",
    "plt.show()"
   ]
  },
  {
   "cell_type": "code",
   "execution_count": 22,
   "metadata": {},
   "outputs": [
    {
     "name": "stdout",
     "output_type": "stream",
     "text": [
      "Palabras clave para el primer título según TF-IDF:\n",
      "[('posh', 0.721082244027785), ('ascension', 0.5175967363443497), ('vermelho', 0.35395186159292946), ('preto', 0.21157025669009114), ('masculino', 0.18529157128848214), ('tenis', 0.08807471624686453)]\n"
     ]
    }
   ],
   "source": [
    "from sklearn.feature_extraction.text import TfidfVectorizer\n",
    "\n",
    "# Convertir los tokens a texto limpio nuevamente\n",
    "df['cleaned_text'] = df['tokens'].apply(lambda x: ' '.join(x))\n",
    "\n",
    "# Crear la matriz TF-IDF\n",
    "vectorizer = TfidfVectorizer()\n",
    "tfidf_matrix = vectorizer.fit_transform(df['cleaned_text'])\n",
    "\n",
    "# Obtener palabras clave con TF-IDF más alto para el primer título\n",
    "feature_names = vectorizer.get_feature_names_out()\n",
    "tfidf_scores = tfidf_matrix[0].T.todense().tolist()\n",
    "keywords = [(feature_names[i], score[0]) for i, score in enumerate(tfidf_scores) if score[0] > 0]\n",
    "keywords = sorted(keywords, key=lambda x: x[1], reverse=True)\n",
    "\n",
    "print(\"Palabras clave para el primer título según TF-IDF:\")\n",
    "print(keywords[:10])"
   ]
  },
  {
   "cell_type": "markdown",
   "metadata": {},
   "source": [
    "### Análisis de Títulos:\n",
    "\n",
    "1. **Palabras más frecuentes**:\n",
    "   - Identificar términos comunes como `tenis` (22,600 apariciones) o `feminino` (7,931) nos permite detectar patrones generales en los productos.\n",
    "   - Estas palabras frecuentes pueden no ser útiles directamente para medir similitud, ya que están presentes en muchos títulos, pero ayudan a filtrar palabras no relevantes.\n",
    "\n",
    "2. **Bigramas y Trigramas más frecuentes**:\n",
    "   - Frases clave como `tenis feminino casual` y `bicicleta aro 29` destacan categorías y características específicas de los productos.\n",
    "   - Estas combinaciones pueden ser valiosas para crear representaciones más específicas de los títulos y mejorar la detección de similitudes.\n",
    "\n",
    "3. **Estadísticas descriptivas**:\n",
    "   - La longitud promedio de 7.26 tokens por título indica que los textos son concisos, lo que favorece la eficiencia al calcular similitudes.\n",
    "   - Las longitudes máxima y mínima (28 y 1 tokens, respectivamente) sugieren la necesidad de manejar casos extremos, como títulos muy cortos o detallados, en la comparación.\n",
    "\n",
    "4. **Palabras clave según TF-IDF**:\n",
    "   - Términos con altos puntajes como `posh` y `ascension` indican elementos únicos que pueden ser cruciales para identificar productos similares.\n",
    "   - Palabras con puntajes bajos (`tenis`, `masculino`) son menos útiles para diferenciar productos.\n",
    "\n",
    "**Conclusión (En el contexto del reto)**:\n",
    "- Este análisis permite priorizar características clave de los títulos (e.g., bigramas y trigramas únicos) para calcular similitudes entre productos.\n",
    "- El uso de TF-IDF es una opción viable para representar títulos y calcular similitudes basadas en coseno o distancias.\n",
    "- La eficiencia en tiempo de ejecución dependerá de optimizaciones en el algoritmo y la elección de estructuras de datos escalables."
   ]
  },
  {
   "cell_type": "markdown",
   "metadata": {},
   "source": [
    "# Eliminar Stop-words."
   ]
  },
  {
   "cell_type": "code",
   "execution_count": 23,
   "metadata": {},
   "outputs": [
    {
     "name": "stdout",
     "output_type": "stream",
     "text": [
      "Primeros registros sin stop words:\n",
      "                                              tokens  \\\n",
      "0  [tenis, ascension, posh, masculino, preto, e, ...   \n",
      "1  [tenis, para, caminhada, super, levinho, spide...   \n",
      "2  [tenis, feminino, le, parc, hocks, black, ice,...   \n",
      "3  [tenis, olympikus, esportivo, academia, nova, ...   \n",
      "4  [inteligente, led, bicicleta, tauda, luz, usb,...   \n",
      "\n",
      "                                     filtered_tokens  \n",
      "0  [tenis, ascension, posh, masculino, preto, ver...  \n",
      "1  [tenis, caminhada, super, levinho, spider, cor...  \n",
      "2  [tenis, feminino, le, parc, hocks, black, ice,...  \n",
      "3  [tenis, olympikus, esportivo, academia, nova, ...  \n",
      "4  [inteligente, led, bicicleta, tauda, luz, usb,...  \n"
     ]
    },
    {
     "name": "stderr",
     "output_type": "stream",
     "text": [
      "[nltk_data] Downloading package stopwords to\n",
      "[nltk_data]     /Users/juan.quiroga/nltk_data...\n",
      "[nltk_data]   Package stopwords is already up-to-date!\n"
     ]
    }
   ],
   "source": [
    "from nltk.corpus import stopwords\n",
    "import nltk\n",
    "\n",
    "# Descargar stop words si no están disponibles\n",
    "nltk.download('stopwords')\n",
    "\n",
    "# Combinar stop words en portugués\n",
    "stop_words_pt = set(stopwords.words('portuguese'))\n",
    "\n",
    "\n",
    "# Función para eliminar stop words de múltiples idiomas\n",
    "def remove_multilang_stopwords(tokens):\n",
    "    return [word for word in tokens if word not in stop_words_pt]\n",
    "\n",
    "# Aplicar la función a los tokens\n",
    "df['filtered_tokens'] = df['tokens'].apply(remove_multilang_stopwords)\n",
    "\n",
    "# Verificar resultados\n",
    "print(\"Primeros registros sin stop words:\")\n",
    "print(df[['tokens', 'filtered_tokens']].head())"
   ]
  },
  {
   "cell_type": "code",
   "execution_count": 24,
   "metadata": {},
   "outputs": [
    {
     "name": "stdout",
     "output_type": "stream",
     "text": [
      "Promedio de palabras eliminadas: 0.28\n",
      "Porcentaje de reducción en el tamaño de los tokens: 3.92%\n"
     ]
    },
    {
     "data": {
      "image/png": "[encoded data removed]",
      "text/plain": [
       "<Figure size 1000x600 with 1 Axes>"
      ]
     },
     "metadata": {},
     "output_type": "display_data"
    }
   ],
   "source": [
    "# Comparar longitud antes y después de eliminar stop words\n",
    "df['original_length'] = df['tokens'].apply(len)\n",
    "df['filtered_length'] = df['filtered_tokens'].apply(len)\n",
    "\n",
    "# Calcular palabras eliminadas\n",
    "df['removed_words'] = df['original_length'] - df['filtered_length']\n",
    "\n",
    "# Estadísticas descriptivas\n",
    "average_removed = df['removed_words'].mean()\n",
    "percentage_reduction = (average_removed / df['original_length'].mean()) * 100\n",
    "\n",
    "# Mostrar resultados\n",
    "print(f\"Promedio de palabras eliminadas: {average_removed:.2f}\")\n",
    "print(f\"Porcentaje de reducción en el tamaño de los tokens: {percentage_reduction:.2f}%\")\n",
    "\n",
    "# Distribución de palabras eliminadas\n",
    "import matplotlib.pyplot as plt\n",
    "plt.figure(figsize=(10, 6))\n",
    "plt.hist(df['removed_words'], bins=20, color='skyblue', edgecolor='black')\n",
    "plt.title(\"Distribución de palabras eliminadas por título\")\n",
    "plt.xlabel(\"Número de palabras eliminadas\")\n",
    "plt.ylabel(\"Frecuencia\")\n",
    "plt.show()"
   ]
  },
  {
   "cell_type": "markdown",
   "metadata": {},
   "source": [
    "### Justificación para la eliminación de Stop Words\n",
    "\n",
    "1. **Reducción de ruido semántico**:\n",
    "   - Las stop words, como \"de\", \"para\", \"e\" (en portugués), son palabras comunes que no aportan información significativa para identificar similitudes entre productos.\n",
    "   - Su presencia puede generar relaciones artificiales entre títulos que comparten conectores pero no son realmente similares.\n",
    "\n",
    "2. **Foco en términos clave**:\n",
    "   - Al eliminar las stop words, el análisis se concentra en palabras relevantes como nombres de productos, categorías, y características distintivas.\n",
    "   - Esto mejora la precisión al identificar títulos con contenido semántico significativo.\n",
    "\n",
    "3. **Minimización de similitudes irreales**:\n",
    "   - Títulos como `\"Tenis de homem\"` y `\"Bicicleta para mulher\"` comparten la palabra \"para\", pero no tienen relación real. Al eliminar este tipo de palabras, evitamos asociaciones incorrectas.\n",
    "\n",
    "4. **Impacto controlado**:\n",
    "   - Aunque la eliminación de stop words reduce el tamaño de los tokens en solo un **5.18%**, elimina un promedio de **0.38 palabras por título**, lo que ayuda a reducir ruido sin afectar significativamente el contenido útil.\n",
    "\n",
    "**Conclusión**:\n",
    "- La eliminación de stop words es una estrategia clave para mejorar la precisión en la identificación de similitudes entre productos, al enfocarse en términos que realmente definen la relación entre ellos."
   ]
  },
  {
   "cell_type": "code",
   "execution_count": 25,
   "metadata": {},
   "outputs": [
    {
     "name": "stdout",
     "output_type": "stream",
     "text": [
      "Ejemplos de títulos con 'para' o 'de':\n",
      "                                        ITE_ITEM_TITLE  \\\n",
      "1    Tenis Para Caminhada Super Levinho Spider Corr...   \n",
      "10   Sapatilha Bike Absolute Nero Mtb Para Pedal Cl...   \n",
      "21   Tenis Feminino De Fazer Caminhada Corrida Acad...   \n",
      "33   Tenis  Sneacker Feminino Surfista  Cheia De Ma...   \n",
      "42   Tenis De Menino Bota Com Luz De Led Sapato Pre...   \n",
      "60   Ténis Estilo All Star Cano Alto Masculino De C...   \n",
      "69   Bicicleta Infantil Kls Blue Girls Aro 16 Rodas...   \n",
      "74   3pcs Mini Clubes De Golfe Caneta Esferográfica...   \n",
      "94   Tênis Sapatênis Feminino Anabela Casual Confor...   \n",
      "100  //kit 2 Pares De Tênis Fé Estiloso De Perfeita...   \n",
      "\n",
      "                                                tokens  \n",
      "1    [tenis, para, caminhada, super, levinho, spide...  \n",
      "10   [sapatilha, bike, absolute, nero, mtb, para, p...  \n",
      "21   [tenis, feminino, de, fazer, caminhada, corrid...  \n",
      "33   [tenis, sneacker, feminino, surfista, cheia, d...  \n",
      "42   [tenis, de, menino, bota, com, luz, de, led, s...  \n",
      "60   [tenis, estilo, all, star, cano, alto, masculi...  \n",
      "69   [bicicleta, infantil, kls, blue, girls, aro, 1...  \n",
      "74   [3pcs, mini, clubes, de, golfe, caneta, esfero...  \n",
      "94   [tenis, sapatenis, feminino, anabela, casual, ...  \n",
      "100  [kit, 2, pares, de, tenis, fe, estiloso, de, p...  \n"
     ]
    }
   ],
   "source": [
    "# Filtrar títulos que contengan \"para\" o \"de\"\n",
    "filtered_examples = df[df['tokens'].apply(lambda x: 'para' in x or 'de' in x)]\n",
    "\n",
    "# Mostrar algunos ejemplos\n",
    "print(\"Ejemplos de títulos con 'para' o 'de':\")\n",
    "print(filtered_examples[['ITE_ITEM_TITLE', 'tokens']].head(10))"
   ]
  },
  {
   "cell_type": "markdown",
   "metadata": {},
   "source": [
    "### Validación de la hipótesis: Minimización de similitudes irreales\n",
    "\n",
    "**Ejemplos analizados**:\n",
    "- Títulos con palabras comunes como \"para\" o \"de\" incluyen:\n",
    "  - `\"Tenis Para Caminhada Super Levinho Spider Corrida\"`\n",
    "  - `\"Sapatilha Bike Absolute Nero Mtb Para Pedal Clip\"`\n",
    "  - `\"Tenis Feminino De Fazer Caminhada Corrida Academia\"`\n",
    "  - `\"Tenis Sneacker Feminino Surfista Cheia De Marca\"`\n",
    "  - `\"Tenis De Menino Bota Com Luz De Led Sapato Preto\"`\n",
    "\n",
    "**Observaciones**:\n",
    "1. **Patrón recurrente de conectores comunes**:\n",
    "   - Palabras como \"para\" y \"de\" aparecen en múltiples títulos, sin aportar información semántica relevante.\n",
    "   - Ejemplo: `\"Tenis Para Caminhada\"` y `\"Bicicleta Para Mulher\"` comparten \"para\", pero representan productos completamente diferentes.\n",
    "\n",
    "2. **Ruido en la similitud**:\n",
    "   - La presencia de estas palabras puede llevar a similitudes artificiales entre títulos que no tienen una relación real, al estar basadas únicamente en palabras comunes.\n",
    "\n",
    "**Conclusión**:\n",
    "Eliminar palabras comunes como \"para\" y \"de\" mejora la precisión al calcular similitudes entre productos, al reducir el ruido semántico y enfocar el análisis en términos clave."
   ]
  },
  {
   "cell_type": "markdown",
   "metadata": {},
   "source": [
    "# Vectorización, similitud usando TF-IDF "
   ]
  },
  {
   "cell_type": "code",
   "execution_count": 26,
   "metadata": {},
   "outputs": [
    {
     "name": "stdout",
     "output_type": "stream",
     "text": [
      "Matriz TF-IDF generada con forma: (30000, 15898)\n"
     ]
    }
   ],
   "source": [
    "from sklearn.feature_extraction.text import TfidfVectorizer\n",
    "\n",
    "# Unir tokens en un solo texto para cada título\n",
    "df['filtered_text'] = df['filtered_tokens'].apply(lambda x: ' '.join(x))\n",
    "\n",
    "# Crear la matriz TF-IDF\n",
    "vectorizer = TfidfVectorizer()\n",
    "tfidf_matrix = vectorizer.fit_transform(df['filtered_text'])\n",
    "\n",
    "print(\"Matriz TF-IDF generada con forma:\", tfidf_matrix.shape)"
   ]
  },
  {
   "cell_type": "code",
   "execution_count": 27,
   "metadata": {},
   "outputs": [
    {
     "name": "stdout",
     "output_type": "stream",
     "text": [
      "Vectorizando textos...\n",
      "Aplicando reducción de dimensionalidad...\n",
      "Calculando similitudes por lotes...\n"
     ]
    },
    {
     "name": "stderr",
     "output_type": "stream",
     "text": [
      "100%|██████████| 30/30 [04:06<00:00,  8.22s/it]\n"
     ]
    },
    {
     "data": {
      "text/html": [
       "<div>\n",
       "<style scoped>\n",
       "    .dataframe tbody tr th:only-of-type {\n",
       "        vertical-align: middle;\n",
       "    }\n",
       "\n",
       "    .dataframe tbody tr th {\n",
       "        vertical-align: top;\n",
       "    }\n",
       "\n",
       "    .dataframe thead th {\n",
       "        text-align: right;\n",
       "    }\n",
       "</style>\n",
       "<table border=\"1\" class=\"dataframe\">\n",
       "  <thead>\n",
       "    <tr style=\"text-align: right;\">\n",
       "      <th></th>\n",
       "      <th>ITE_ITEM_TITLE_1</th>\n",
       "      <th>ITE_ITEM_TITLE_2</th>\n",
       "      <th>Score Similitud</th>\n",
       "    </tr>\n",
       "  </thead>\n",
       "  <tbody>\n",
       "    <tr>\n",
       "      <th>4022061</th>\n",
       "      <td>Tênis Via Marte Feminino Nobuck Preto</td>\n",
       "      <td>Tênis Via Marte Nobuck Feminino - Preto</td>\n",
       "      <td>1.0</td>\n",
       "    </tr>\n",
       "    <tr>\n",
       "      <th>481516</th>\n",
       "      <td>Tenis Branco Napa Feminino Beira Rio Confortav...</td>\n",
       "      <td>Tenis Branco Napa Feminino Beira Rio Confortav...</td>\n",
       "      <td>1.0</td>\n",
       "    </tr>\n",
       "    <tr>\n",
       "      <th>3422084</th>\n",
       "      <td>Mizuno Pro7</td>\n",
       "      <td>Mizuno Waze</td>\n",
       "      <td>1.0</td>\n",
       "    </tr>\n",
       "    <tr>\n",
       "      <th>7189610</th>\n",
       "      <td>Tênis Fila Cage Python Masculino - Preto Vermelho</td>\n",
       "      <td>Tênis Fila Cage Python Masculino Preto/vermelho</td>\n",
       "      <td>1.0</td>\n",
       "    </tr>\n",
       "    <tr>\n",
       "      <th>4876003</th>\n",
       "      <td>Tenis Feminino Casual Via Marte 20-13509</td>\n",
       "      <td>Tenis Feminino Casual Via Marte 20-6902</td>\n",
       "      <td>1.0</td>\n",
       "    </tr>\n",
       "    <tr>\n",
       "      <th>...</th>\n",
       "      <td>...</td>\n",
       "      <td>...</td>\n",
       "      <td>...</td>\n",
       "    </tr>\n",
       "    <tr>\n",
       "      <th>2983019</th>\n",
       "      <td>Tenis Usaflex Salto 3 Cm Elastico - Ac6601 Nude</td>\n",
       "      <td>Tenis Sapatilha Hibrido Neoprene Nautika Ntk P...</td>\n",
       "      <td>0.5</td>\n",
       "    </tr>\n",
       "    <tr>\n",
       "      <th>616926</th>\n",
       "      <td>Tenis Feminino Casual Original Vicerinne Black...</td>\n",
       "      <td>Promoção Tenis Casual Torricella Original</td>\n",
       "      <td>0.5</td>\n",
       "    </tr>\n",
       "    <tr>\n",
       "      <th>3286246</th>\n",
       "      <td>Bicicleta Infantil Aro 12 Veloz Nathor + Buzin...</td>\n",
       "      <td>Bicicleta Cannondale Lefty Scalpel Worldcup Qu...</td>\n",
       "      <td>0.5</td>\n",
       "    </tr>\n",
       "    <tr>\n",
       "      <th>98637</th>\n",
       "      <td>Sapatilha Tênis Neoprene Ciclismo Surf Academi...</td>\n",
       "      <td>Tenis Feminino Sapatilha Angel Leve Academia S...</td>\n",
       "      <td>0.5</td>\n",
       "    </tr>\n",
       "    <tr>\n",
       "      <th>2424261</th>\n",
       "      <td>Bicicleta Aro 26 Retrô  Assento Acolchoado Pe...</td>\n",
       "      <td>Bicicleta Gti Isis  Aro 29 Feminina  Rosa</td>\n",
       "      <td>0.5</td>\n",
       "    </tr>\n",
       "  </tbody>\n",
       "</table>\n",
       "<p>7377973 rows × 3 columns</p>\n",
       "</div>"
      ],
      "text/plain": [
       "                                          ITE_ITEM_TITLE_1  \\\n",
       "4022061              Tênis Via Marte Feminino Nobuck Preto   \n",
       "481516   Tenis Branco Napa Feminino Beira Rio Confortav...   \n",
       "3422084                                        Mizuno Pro7   \n",
       "7189610  Tênis Fila Cage Python Masculino - Preto Vermelho   \n",
       "4876003           Tenis Feminino Casual Via Marte 20-13509   \n",
       "...                                                    ...   \n",
       "2983019    Tenis Usaflex Salto 3 Cm Elastico - Ac6601 Nude   \n",
       "616926   Tenis Feminino Casual Original Vicerinne Black...   \n",
       "3286246  Bicicleta Infantil Aro 12 Veloz Nathor + Buzin...   \n",
       "98637    Sapatilha Tênis Neoprene Ciclismo Surf Academi...   \n",
       "2424261   Bicicleta Aro 26 Retrô  Assento Acolchoado Pe...   \n",
       "\n",
       "                                          ITE_ITEM_TITLE_2  Score Similitud  \n",
       "4022061            Tênis Via Marte Nobuck Feminino - Preto              1.0  \n",
       "481516   Tenis Branco Napa Feminino Beira Rio Confortav...              1.0  \n",
       "3422084                                        Mizuno Waze              1.0  \n",
       "7189610    Tênis Fila Cage Python Masculino Preto/vermelho              1.0  \n",
       "4876003            Tenis Feminino Casual Via Marte 20-6902              1.0  \n",
       "...                                                    ...              ...  \n",
       "2983019  Tenis Sapatilha Hibrido Neoprene Nautika Ntk P...              0.5  \n",
       "616926           Promoção Tenis Casual Torricella Original              0.5  \n",
       "3286246  Bicicleta Cannondale Lefty Scalpel Worldcup Qu...              0.5  \n",
       "98637    Tenis Feminino Sapatilha Angel Leve Academia S...              0.5  \n",
       "2424261          Bicicleta Gti Isis  Aro 29 Feminina  Rosa              0.5  \n",
       "\n",
       "[7377973 rows x 3 columns]"
      ]
     },
     "execution_count": 27,
     "metadata": {},
     "output_type": "execute_result"
    }
   ],
   "source": [
    "import pandas as pd\n",
    "import numpy as np\n",
    "from sklearn.metrics.pairwise import cosine_similarity\n",
    "from sklearn.decomposition import TruncatedSVD\n",
    "from sklearn.feature_extraction.text import TfidfVectorizer\n",
    "from joblib import Parallel, delayed\n",
    "import sparse\n",
    "from tqdm import tqdm\n",
    "\n",
    "def calculate_similarities_batch(df, batch_size=500, threshold=0.5):\n",
    "    \"\"\"\n",
    "    Calcula similitudes de manera optimizada usando procesamiento por lotes\n",
    "    y filtrado por umbral.\n",
    "    \n",
    "    Args:\n",
    "        df (pd.DataFrame): DataFrame con los títulos\n",
    "        batch_size (int): Tamaño del lote para procesar\n",
    "        threshold (float): Umbral mínimo de similitud para guardar\n",
    "        \n",
    "    Returns:\n",
    "        pd.DataFrame: DataFrame con las similitudes filtradas\n",
    "    \"\"\"\n",
    "    # Vectorización más eficiente con menos features\n",
    "    tfidf_vectorizer = TfidfVectorizer(\n",
    "        max_features=5000,  # Limitar características\n",
    "        min_df=2  # Ignorar términos que aparecen solo una vez\n",
    "    )\n",
    "    \n",
    "    print(\"Vectorizando textos...\")\n",
    "    tfidf_matrix = tfidf_vectorizer.fit_transform(df['ITE_ITEM_TITLE'])\n",
    "    \n",
    "    # Usar SVD solo si es necesario (muchas características)\n",
    "    if tfidf_matrix.shape[1] > 1000:\n",
    "        print(\"Aplicando reducción de dimensionalidad...\")\n",
    "        svd = TruncatedSVD(n_components=min(100, tfidf_matrix.shape[1]-1))\n",
    "        reduced_matrix = svd.fit_transform(tfidf_matrix)\n",
    "    else:\n",
    "        reduced_matrix = tfidf_matrix.toarray()\n",
    "    \n",
    "    n_samples = len(df)\n",
    "    results = []\n",
    "    \n",
    "    print(\"Calculando similitudes por lotes...\")\n",
    "    for i in tqdm(range(0, n_samples, batch_size)):\n",
    "        batch_end = min(i + batch_size, n_samples)\n",
    "        # Calcular similitud solo para el lote actual\n",
    "        batch_similarities = cosine_similarity(\n",
    "            reduced_matrix[i:batch_end],\n",
    "            reduced_matrix\n",
    "        )\n",
    "        \n",
    "        # Procesar solo similitudes sobre el umbral\n",
    "        for batch_idx, row in enumerate(batch_similarities):\n",
    "            abs_idx = i + batch_idx\n",
    "            # Solo procesar la mitad superior de la matriz\n",
    "            high_similarities = np.where(row[abs_idx+1:] > threshold)[0]\n",
    "            \n",
    "            for j in high_similarities:\n",
    "                j = j + abs_idx + 1  # Ajustar índice\n",
    "                results.append([\n",
    "                    df.iloc[abs_idx]['ITE_ITEM_TITLE'],\n",
    "                    df.iloc[j]['ITE_ITEM_TITLE'],\n",
    "                    row[j]\n",
    "                ])\n",
    "    \n",
    "    # Crear DataFrame con resultados filtrados\n",
    "    similarity_df = pd.DataFrame(\n",
    "        results,\n",
    "        columns=['ITE_ITEM_TITLE_1', 'ITE_ITEM_TITLE_2', 'Score Similitud']\n",
    "    )\n",
    "    \n",
    "    return similarity_df.sort_values('Score Similitud', ascending=False)\n",
    "\n",
    "similarity_df = calculate_similarities_batch(df, batch_size=1000, threshold=0.5)\n",
    "\n",
    "similarity_df"
   ]
  },
  {
   "cell_type": "markdown",
   "metadata": {},
   "source": [
    "Se establece un threshold de 0.5, para no procesar toda la matrix."
   ]
  }
 ],
 "metadata": {
  "kernelspec": {
   "display_name": "meli",
   "language": "python",
   "name": "python3"
  },
  "language_info": {
   "codemirror_mode": {
    "name": "ipython",
    "version": 3
   },
   "file_extension": ".py",
   "mimetype": "text/x-python",
   "name": "python",
   "nbconvert_exporter": "python",
   "pygments_lexer": "ipython3",
   "version": "3.10.10"
  }
 },
 "nbformat": 4,
 "nbformat_minor": 2
}
